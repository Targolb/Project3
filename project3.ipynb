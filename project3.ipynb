{
 "cells": [
  {
   "cell_type": "markdown",
   "source": [
    "iteratively"
   ],
   "metadata": {
    "collapsed": false
   },
   "id": "cd750aab19ac3aa7"
  },
  {
   "cell_type": "code",
   "outputs": [],
   "source": [
    "def knapsack_bottom_up(values, weights, capacity):\n",
    "    n = len(values)\n",
    "    dp = [[0] * (capacity + 1) for _ in range(n + 1)]\n",
    "\n",
    "    # Fill DP table\n",
    "    for i in range(1, n + 1):\n",
    "        for w in range(capacity + 1):\n",
    "            if weights[i - 1] <= w:\n",
    "                # Max of including or excluding the item\n",
    "                dp[i][w] = max(dp[i - 1][w], dp[i - 1][w - weights[i - 1]] + values[i - 1])\n",
    "            else:\n",
    "                dp[i][w] = dp[i - 1][w]\n",
    "\n",
    "    return dp[n][capacity]"
   ],
   "metadata": {
    "collapsed": false,
    "ExecuteTime": {
     "end_time": "2024-11-18T15:29:41.975892Z",
     "start_time": "2024-11-18T15:29:41.965578Z"
    }
   },
   "id": "4b2412e1bb2b3dfa",
   "execution_count": 1
  },
  {
   "cell_type": "markdown",
   "source": [
    "memoization"
   ],
   "metadata": {
    "collapsed": false
   },
   "id": "649241805d04db7"
  },
  {
   "cell_type": "code",
   "execution_count": 2,
   "id": "initial_id",
   "metadata": {
    "collapsed": true,
    "ExecuteTime": {
     "end_time": "2024-11-18T15:30:06.074190Z",
     "start_time": "2024-11-18T15:30:06.063484Z"
    }
   },
   "outputs": [],
   "source": [
    "def knapsack_top_down(values, weights, capacity):\n",
    "    n = len(values)\n",
    "    memo = {}\n",
    "\n",
    "    def helper(i, w):\n",
    "        if i == 0 or w == 0:\n",
    "            return 0\n",
    "\n",
    "        if (i, w) in memo:\n",
    "            return memo[(i, w)]\n",
    "\n",
    "        if weights[i - 1] > w:\n",
    "            memo[(i, w)] = helper(i - 1, w)\n",
    "        else:\n",
    "            memo[(i, w)] = max(\n",
    "                helper(i - 1, w), \n",
    "                helper(i - 1, w - weights[i - 1]) + values[i - 1]\n",
    "            )\n",
    "        return memo[(i, w)]\n",
    "\n",
    "    return helper(n, capacity)"
   ]
  },
  {
   "cell_type": "markdown",
   "source": [
    "Test"
   ],
   "metadata": {
    "collapsed": false
   },
   "id": "8fcaff73be4edf2a"
  },
  {
   "cell_type": "code",
   "outputs": [
    {
     "name": "stdout",
     "output_type": "stream",
     "text": [
      "Bottom-Up: 220\n",
      "Top-Down: 220\n"
     ]
    }
   ],
   "source": [
    "values = [60, 100, 120]\n",
    "weights = [10, 20, 30]\n",
    "capacity = 50\n",
    "\n",
    "print(\"Bottom-Up:\", knapsack_bottom_up(values, weights, capacity))  \n",
    "print(\"Top-Down:\", knapsack_top_down(values, weights, capacity))    "
   ],
   "metadata": {
    "collapsed": false,
    "ExecuteTime": {
     "end_time": "2024-11-18T15:30:22.142636Z",
     "start_time": "2024-11-18T15:30:22.133332Z"
    }
   },
   "id": "78c2beb5d8e7bf23",
   "execution_count": 3
  },
  {
   "cell_type": "code",
   "outputs": [],
   "source": [],
   "metadata": {
    "collapsed": false
   },
   "id": "b48b33d5b11327fe"
  }
 ],
 "metadata": {
  "kernelspec": {
   "display_name": "Python 3",
   "language": "python",
   "name": "python3"
  },
  "language_info": {
   "codemirror_mode": {
    "name": "ipython",
    "version": 2
   },
   "file_extension": ".py",
   "mimetype": "text/x-python",
   "name": "python",
   "nbconvert_exporter": "python",
   "pygments_lexer": "ipython2",
   "version": "2.7.6"
  }
 },
 "nbformat": 4,
 "nbformat_minor": 5
}
